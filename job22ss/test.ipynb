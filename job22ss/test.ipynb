{
 "cells": [
  {
   "cell_type": "code",
   "execution_count": 23,
   "metadata": {
    "tags": []
   },
   "outputs": [
    {
     "output_type": "execute_result",
     "data": {
      "text/plain": "'A2,A4,A6,A8,A10,A12,A14,A16,A18,A20,A22,A24,A26,A28,A30,A32,A34,A36,A38,A40,A42,A44,A46,A48,A50,A52,A54,A56,A58,A60,A62,A64,A66,A68,A70,A72,A74,A76,A78,A80,A82,A84,A86,A88,A90,A92,A94,A96,A98,A100'"
     },
     "metadata": {},
     "execution_count": 23
    }
   ],
   "source": [
    "import pandas as pd\n",
    "import os\n",
    "df1 = pd.read_csv(\"data1.csv\")\n",
    "df2 = pd.read_csv(\"data2.csv\")\n",
    "common = df1.merge(df2,on=['Order#','Cost'])\n",
    "highlight = df2[(~df2[\"Order#\"].isin(common[\"Order#\"]))].index.values\n",
    "newhighlight = [\"A\"+str(i+2) for i in highlight]\n",
    "\",\".join(newhighlight)"
   ]
  }
 ],
 "metadata": {
  "language_info": {
   "codemirror_mode": {
    "name": "ipython",
    "version": 3
   },
   "file_extension": ".py",
   "mimetype": "text/x-python",
   "name": "python",
   "nbconvert_exporter": "python",
   "pygments_lexer": "ipython3",
   "version": 3
  },
  "orig_nbformat": 2,
  "kernelspec": {
   "name": "python_defaultSpec_1593093829817",
   "display_name": "Python 3.7.3 32-bit"
  }
 },
 "nbformat": 4,
 "nbformat_minor": 2
}